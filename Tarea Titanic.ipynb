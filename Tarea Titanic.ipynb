{
 "cells": [
  {
   "cell_type": "markdown",
   "id": "bc757a20",
   "metadata": {},
   "source": [
    "## Tarea\n",
    "Identificar los valores nulos del dataset Titanic\n",
    "\n",
    "Calcular la cantidad de sobrevivientes del titanic que sean hombres, que hayan estado en tercera clase y que sean mayores de 20 años.\n",
    "\n",
    "Crear una nueva columna que indique si eran menor de edad (usar ‘Si’ y ‘No’).\n",
    "\n",
    "Mostrar el histograma de los sobrevivientes en función de su edad.\n",
    "\n"
   ]
  },
  {
   "cell_type": "code",
   "execution_count": 1,
   "id": "34180cac",
   "metadata": {},
   "outputs": [],
   "source": [
    "import pandas as pd\n",
    "df = pd.read_csv(\"https://raw.githubusercontent.com/datasciencedojo/datasets/master/titanic.csv\")"
   ]
  },
  {
   "cell_type": "code",
   "execution_count": 4,
   "id": "83d6d56b",
   "metadata": {},
   "outputs": [],
   "source": [
    "#Pregunta 1"
   ]
  },
  {
   "cell_type": "code",
   "execution_count": null,
   "id": "17ffd4ae",
   "metadata": {},
   "outputs": [],
   "source": [
    "#Pregunta 2"
   ]
  },
  {
   "cell_type": "code",
   "execution_count": null,
   "id": "4fc5f87f",
   "metadata": {},
   "outputs": [],
   "source": [
    "#Pregunta 3"
   ]
  },
  {
   "cell_type": "code",
   "execution_count": null,
   "id": "13caa592",
   "metadata": {},
   "outputs": [],
   "source": [
    "#Pregunta 4"
   ]
  }
 ],
 "metadata": {
  "kernelspec": {
   "display_name": "Python 3 (ipykernel)",
   "language": "python",
   "name": "python3"
  },
  "language_info": {
   "codemirror_mode": {
    "name": "ipython",
    "version": 3
   },
   "file_extension": ".py",
   "mimetype": "text/x-python",
   "name": "python",
   "nbconvert_exporter": "python",
   "pygments_lexer": "ipython3",
   "version": "3.8.10"
  }
 },
 "nbformat": 4,
 "nbformat_minor": 5
}
